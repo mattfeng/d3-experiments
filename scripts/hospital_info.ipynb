{
 "cells": [
  {
   "cell_type": "markdown",
   "metadata": {
    "deletable": false,
    "editable": false,
    "run_control": {
     "frozen": true
    }
   },
   "source": [
    "# hospital info extract"
   ]
  },
  {
   "cell_type": "markdown",
   "metadata": {
    "deletable": false,
    "editable": false,
    "run_control": {
     "frozen": true
    }
   },
   "source": [
    "## imports"
   ]
  },
  {
   "cell_type": "code",
   "execution_count": 100,
   "metadata": {},
   "outputs": [],
   "source": [
    "import pandas as pd\n",
    "import numpy as np\n",
    "import json\n",
    "import glob\n",
    "\n",
    "from collections import defaultdict"
   ]
  },
  {
   "cell_type": "markdown",
   "metadata": {
    "deletable": false,
    "editable": false,
    "run_control": {
     "frozen": true
    }
   },
   "source": [
    "## load data"
   ]
  },
  {
   "cell_type": "markdown",
   "metadata": {
    "deletable": false,
    "editable": false,
    "run_control": {
     "frozen": true
    }
   },
   "source": [
    "### create ZIP to FIPS map"
   ]
  },
  {
   "cell_type": "code",
   "execution_count": 54,
   "metadata": {},
   "outputs": [],
   "source": [
    "statefips = pd.read_csv(\"./state_fips.csv\")"
   ]
  },
  {
   "cell_type": "code",
   "execution_count": 74,
   "metadata": {},
   "outputs": [],
   "source": [
    "state2fip = {}\n",
    "\n",
    "for row in statefips.to_dict(orient=\"records\"):\n",
    "    state2fip[row[\"state_abbr\"]] = f\"{row['fips']:02d}\"\n",
    "\n",
    "state2fip[\"DC\"] = \"11\" # District of Columbia\n",
    "state2fip[\"PR\"] = \"72\" # Puerto Rico\n",
    "state2fip[\"VI\"] = \"78\" # Virgin Islands\n",
    "state2fip[\"AS\"] = \"60\" # American Samoa\n",
    "state2fip[\"GU\"] = \"66\" # Guam\n",
    "state2fip[\"MP\"] = \"69\" # Northern Mariana Islands\n",
    "state2fip[\"FM\"] = \"64\" # Federated States of Micronesia\n",
    "state2fip[\"PW\"] = \"70\" # Palau\n",
    "state2fip[\"MH\"] = \"68\" # Marshall Islands"
   ]
  },
  {
   "cell_type": "code",
   "execution_count": 75,
   "metadata": {},
   "outputs": [],
   "source": [
    "zip2fips = {}\n",
    "\n",
    "# 00401000000000200020002NY119WESTCHESTER\n",
    "\n",
    "for fname in glob.glob(\"./zipcty*\"):\n",
    "    with open(fname) as f:\n",
    "        f.readline()    # skip the first line\n",
    "        for line in f:\n",
    "            try:\n",
    "                line = line.strip()\n",
    "                zipcode = line[0:5]\n",
    "                state = line[23:25]\n",
    "                if state == \"  \":\n",
    "                    state = \"GA\"\n",
    "                county = line[25:28]\n",
    "                fips = state2fip[state] + county\n",
    "                zip2fips[zipcode] = fips\n",
    "            except:\n",
    "                print(line)"
   ]
  },
  {
   "cell_type": "code",
   "execution_count": 79,
   "metadata": {},
   "outputs": [],
   "source": [
    "morezips = pd.read_csv(\"./ZIP-COUNTY-FIPS_2018-03.csv\")"
   ]
  },
  {
   "cell_type": "code",
   "execution_count": 81,
   "metadata": {},
   "outputs": [],
   "source": [
    "for z in morezips.to_dict(orient=\"records\"):\n",
    "    zc = f\"{z['ZIP']:05d}\"\n",
    "    fp = f\"{z['STCOUNTYFP']:05d}\"\n",
    "    \n",
    "    zip2fips[zc] = fp"
   ]
  },
  {
   "cell_type": "code",
   "execution_count": 83,
   "metadata": {},
   "outputs": [],
   "source": [
    "zip2fips[\"34265\"] = \"12027\"\n",
    "zip2fips[\"42135\"] = \"21073\"\n",
    "zip2fips[\"98415\"] = \"53053\"\n",
    "zip2fips[\"35161\"] = \"01121\"\n",
    "zip2fips[\"38935\"] = \"28083\""
   ]
  },
  {
   "cell_type": "code",
   "execution_count": 4,
   "metadata": {},
   "outputs": [],
   "source": [
    "df = pd.read_csv(\"./hospital_general_info.csv\")"
   ]
  },
  {
   "cell_type": "code",
   "execution_count": 6,
   "metadata": {},
   "outputs": [
    {
     "data": {
      "text/plain": [
       "Index(['Facility ID', 'Facility Name', 'Address', 'City', 'State', 'ZIP Code',\n",
       "       'County Name', 'Phone Number', 'Hospital Type', 'Hospital Ownership',\n",
       "       'Emergency Services',\n",
       "       'Meets criteria for promoting interoperability of EHRs',\n",
       "       'Hospital overall rating', 'Hospital overall rating footnote',\n",
       "       'Mortality national comparison',\n",
       "       'Mortality national comparison footnote',\n",
       "       'Safety of care national comparison',\n",
       "       'Safety of care national comparison footnote',\n",
       "       'Readmission national comparison',\n",
       "       'Readmission national comparison footnote',\n",
       "       'Patient experience national comparison',\n",
       "       'Patient experience national comparison footnote',\n",
       "       'Effectiveness of care national comparison',\n",
       "       'Effectiveness of care national comparison footnote',\n",
       "       'Timeliness of care national comparison',\n",
       "       'Timeliness of care national comparison footnote',\n",
       "       'Efficient use of medical imaging national comparison',\n",
       "       'Efficient use of medical imaging national comparison footnote',\n",
       "       'Location'],\n",
       "      dtype='object')"
      ]
     },
     "execution_count": 6,
     "metadata": {},
     "output_type": "execute_result"
    }
   ],
   "source": [
    "df.columns"
   ]
  },
  {
   "cell_type": "code",
   "execution_count": 94,
   "metadata": {},
   "outputs": [],
   "source": [
    "df2 = df.rename(columns={\n",
    "    \"Facility ID\": \"id\",\n",
    "    \"Facility Name\": \"name\",\n",
    "    \"Address\": \"addr\",\n",
    "    \"City\": \"city\",\n",
    "    \"State\": \"state\",\n",
    "    \"ZIP Code\": \"zip\",\n",
    "    \"Hospital Type\": \"type\",\n",
    "    \"Hospital Ownership\": \"ownership\",\n",
    "    \"Hospital overall rating\": \"rating\"\n",
    "})\n",
    "\n",
    "\n",
    "df2 = df2[df2[\"rating\"] != \"Not Available\"]\n",
    "df2[\"rating\"] = df2[\"rating\"].astype(np.float32)"
   ]
  },
  {
   "cell_type": "code",
   "execution_count": 96,
   "metadata": {},
   "outputs": [],
   "source": [
    "df2[\"fips\"] = df2[\"zip\"].apply(lambda x: zip2fips[f\"{x:05d}\"])"
   ]
  },
  {
   "cell_type": "code",
   "execution_count": 98,
   "metadata": {},
   "outputs": [
    {
     "data": {
      "text/plain": [
       "count    1707.000000\n",
       "mean        3.299917\n",
       "std         0.887425\n",
       "min         1.000000\n",
       "25%         3.000000\n",
       "50%         3.250000\n",
       "75%         4.000000\n",
       "max         5.000000\n",
       "Name: rating, dtype: float64"
      ]
     },
     "execution_count": 98,
     "metadata": {},
     "output_type": "execute_result"
    }
   ],
   "source": [
    "df2.groupby(\"fips\")[\"rating\"].mean().describe()"
   ]
  },
  {
   "cell_type": "code",
   "execution_count": 101,
   "metadata": {},
   "outputs": [],
   "source": [
    "fips_hospital_data = defaultdict(list)\n",
    "\n",
    "for row in df2.to_dict(orient=\"records\"):\n",
    "    fips = row[\"fips\"]\n",
    "    rating = row[\"rating\"]\n",
    "    name = row[\"name\"].lower()\n",
    "    \n",
    "    fips_hospital_data[fips].append((name, rating))"
   ]
  },
  {
   "cell_type": "code",
   "execution_count": 104,
   "metadata": {},
   "outputs": [],
   "source": [
    "json.dump(fips_hospital_data, open(\"./fips-hospital-data.json\", 'w'))"
   ]
  },
  {
   "cell_type": "code",
   "execution_count": 105,
   "metadata": {},
   "outputs": [],
   "source": [
    "json.dump(state2fip, open(\"state_fip_codes.json\", 'w'))"
   ]
  },
  {
   "cell_type": "code",
   "execution_count": 106,
   "metadata": {},
   "outputs": [],
   "source": [
    "json.dump(zip2fips, open(\"zipcode_fip_codes.json\", 'w'))"
   ]
  },
  {
   "cell_type": "code",
   "execution_count": null,
   "metadata": {},
   "outputs": [],
   "source": []
  }
 ],
 "metadata": {
  "kernelspec": {
   "display_name": "Python 3",
   "language": "python",
   "name": "python3"
  },
  "language_info": {
   "codemirror_mode": {
    "name": "ipython",
    "version": 3
   },
   "file_extension": ".py",
   "mimetype": "text/x-python",
   "name": "python",
   "nbconvert_exporter": "python",
   "pygments_lexer": "ipython3",
   "version": "3.7.7"
  }
 },
 "nbformat": 4,
 "nbformat_minor": 4
}
